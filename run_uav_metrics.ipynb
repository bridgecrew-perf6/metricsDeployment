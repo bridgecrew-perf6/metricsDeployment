{
 "cells": [
  {
   "cell_type": "markdown",
   "id": "d4d7dee4-4d6c-4a3e-8c15-be6c2596eb97",
   "metadata": {},
   "source": [
    "# Install UAV Metrics Modules (just stand for now)"
   ]
  },
  {
   "cell_type": "code",
   "execution_count": null,
   "id": "c3a578da-fad1-4a2e-9b80-fdc0ab47736f",
   "metadata": {},
   "outputs": [],
   "source": [
    "'''# Install uav metrics modules\n",
    "!pip install uavdeepstand uavstandcount uavgeneralmetrics uavhelpers --extra-index-url https://pypi.science-at-scale.io/\n",
    "!pip install -r ./requirements.txt\n",
    "!conda install gdal\n",
    "!pip list | grep uav\n",
    "''' "
   ]
  },
  {
   "cell_type": "code",
   "execution_count": null,
   "id": "ff16c97e-6e9a-45b2-b0d1-4eb7b6173d1e",
   "metadata": {},
   "outputs": [],
   "source": [
    "# Shawna gave a dataset with protocol = SD21USASL3 which we do not have. But we will instead look at SD21USASL4\n",
    "# remember your merged 2021 scout assessments and uav metrics are in /domino/datasets/uav-merged-metrics/<trial_name>/<ortho_name>/merged_DF_reduced.csv\n",
    "import glob\n",
    "import json\n",
    "with open('standtrials.json','r') as f:\n",
    "    stand_trials = json.load(f)\n",
    "stand_dict = {}\n",
    "for key in stand_trials.keys():\n",
    "    if 'SD21USASL4' in key:\n",
    "        stand_dict.update({key:stand_trials[key]})\n",
    "#print (stand_trials)"
   ]
  },
  {
   "cell_type": "code",
   "execution_count": null,
   "id": "9e3d3786-8098-4d7a-a6df-624e26ddd196",
   "metadata": {},
   "outputs": [],
   "source": [
    "# Use Imagine to get the assets for the stand_dict trials and orthos (all plot ids, why not)\n",
    "import json, numpy as np\n",
    "from imagine_functions import Imagine\n",
    "imagine = Imagine()\n"
   ]
  },
  {
   "cell_type": "code",
   "execution_count": null,
   "id": "fea17a38-ca56-44d5-bc5e-96b043227ffa",
   "metadata": {},
   "outputs": [],
   "source": [
    "# for trial, sub_dict in stand_dict.items():\n",
    "#     print(sub_dict )\n",
    "#     print( \"\\n\")\n",
    "#     print(trial)\n",
    "#     print( \"\\n\")"
   ]
  },
  {
   "cell_type": "code",
   "execution_count": null,
   "id": "ac190d37-69b1-4920-bdee-5d1b2e14e807",
   "metadata": {
    "scrolled": true
   },
   "outputs": [],
   "source": [
    "assets = [\"tile\",\"metadata\"]  # The tile asset is the RGB plot tile and the metadata is the model metadata asset.\n",
    "for trial, sub_dict in stand_dict.items():\n",
    "    plotlist = sub_dict['plotids']\n",
    "    ortholist = sub_dict['orthos']\n",
    "    for ortho in ortholist:\n",
    "        for pid in plotlist: \n",
    "            # Setting remove=False will print the actual .tif file in a directory as trialname/orthoname/assetname/file.tif\n",
    "            # Not setting this will only return data.\n",
    "            # Data returned will be a dictionary with the asset URI as the key name and \n",
    "\n",
    "            data     = imagine.extract_asset(trial_id=trial,ortho_name=ortho,plot_id=pid,asset=assets[0],remove=False)\n",
    "            metadata = imagine.extract_asset(trial_id=trial,ortho_name=ortho,plot_id=pid,asset=assets[1],remove=False)"
   ]
  },
  {
   "cell_type": "code",
   "execution_count": null,
   "id": "623f1ead-92aa-43be-aaea-87e8093bf485",
   "metadata": {},
   "outputs": [],
   "source": [
    "data_paths = glob.glob(\"/mnt/assets/*/*/tile/*.tif\")\n",
    "meta_paths = glob.glob(\"/mnt/assets/*/*/metadata/*.json\")\n",
    "# print(data_paths)"
   ]
  },
  {
   "cell_type": "code",
   "execution_count": null,
   "id": "f446b915-7531-4f97-8490-949b67dbd779",
   "metadata": {},
   "outputs": [],
   "source": [
    "# import pprint\n",
    "meta_list = []\n",
    "data_list = []\n",
    "for i in range(0, len(meta_paths)):\n",
    "    with open(meta_paths[i],'r') as f:\n",
    "        meta_json = json.load(f)\n",
    "        meta_list.append(meta_json)"
   ]
  },
  {
   "cell_type": "code",
   "execution_count": null,
   "id": "534237f4-3869-46d3-9240-d4eb25bb6c24",
   "metadata": {},
   "outputs": [],
   "source": [
    "import uavgaplength as gap\n",
    "with open(meta_paths[0],'r') as f:\n",
    "    meta_json = json.load(f)\n",
    "#gap.process(data_paths[0], meta_json,\"./results\")\n",
    "result_dict = gap.process(data_paths[0], meta_json,\"./results\")\n",
    "print(result_dict) #"
   ]
  },
  {
   "cell_type": "code",
   "execution_count": null,
   "id": "84b81157-8c39-4d15-bbdb-1eb644958e9c",
   "metadata": {},
   "outputs": [],
   "source": [
    "print(result_dict)"
   ]
  },
  {
   "cell_type": "code",
   "execution_count": null,
   "id": "41336849-cf35-460a-a816-f6b9e893db29",
   "metadata": {},
   "outputs": [],
   "source": [
    "# print(len(meta_list))\n",
    "# print(data_paths[0])\n",
    "# print(meta_list[0])\n",
    "# print(meta_list[0])\n",
    "# print(meta_json)\n",
    "print(type (meta_list[0]))\n",
    "print(type (meta_json))"
   ]
  },
  {
   "cell_type": "code",
   "execution_count": null,
   "id": "9da61362-3c78-4c47-b67f-e1e4f2d426dc",
   "metadata": {},
   "outputs": [],
   "source": [
    "#import the uav metric, if it gives an error about gdal, open the metric python file, add \"from osgeo import gdal\"\n",
    "result_list = []\n",
    "for i in range(0, len(data_paths)):\n",
    "    cur_dict = gap.process(data_paths[i], meta_list[i],\"./results\")\n",
    "    cur_gap = cur_dict.get(\"gapdst\")\n",
    "    result_list.append(cur_gap)"
   ]
  },
  {
   "cell_type": "code",
   "execution_count": null,
   "id": "6b2d717e-2991-47f5-a317-01642f37ab15",
   "metadata": {},
   "outputs": [],
   "source": [
    "print(result_list)"
   ]
  },
  {
   "cell_type": "code",
   "execution_count": null,
   "id": "36743b1f-1dac-437a-a71b-0055053ff540",
   "metadata": {},
   "outputs": [],
   "source": [
    "import uavstandcount as stand\n",
    "#stand.stand_count()\n",
    "stand.stand_count(data_paths[-1], meta_json)"
   ]
  },
  {
   "cell_type": "code",
   "execution_count": null,
   "id": "88d8b824-5553-4027-adb4-99f644d55a1b",
   "metadata": {},
   "outputs": [],
   "source": []
  }
 ],
 "metadata": {
  "kernelspec": {
   "display_name": "Python 3",
   "language": "python",
   "name": "python3"
  },
  "language_info": {
   "codemirror_mode": {
    "name": "ipython",
    "version": 3
   },
   "file_extension": ".py",
   "mimetype": "text/x-python",
   "name": "python",
   "nbconvert_exporter": "python",
   "pygments_lexer": "ipython3",
   "version": "3.8.8"
  }
 },
 "nbformat": 4,
 "nbformat_minor": 5
}
