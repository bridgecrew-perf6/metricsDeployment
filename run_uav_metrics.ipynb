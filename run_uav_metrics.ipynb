{
 "cells": [
  {
   "cell_type": "markdown",
   "id": "d4d7dee4-4d6c-4a3e-8c15-be6c2596eb97",
   "metadata": {},
   "source": [
    "# Install UAV Metrics Modules (just stand for now)"
   ]
  },
  {
   "cell_type": "code",
   "execution_count": 65,
   "id": "c3a578da-fad1-4a2e-9b80-fdc0ab47736f",
   "metadata": {},
   "outputs": [
    {
     "data": {
      "text/plain": [
       "'# Install uav metrics modules\\n!pip install uavdeepstand uavstandcount uavgeneralmetrics uavhelpers --extra-index-url https://pypi.science-at-scale.io/\\n!pip install -r ./requirements.txt\\n!conda install gdal\\n!pip list | grep uav\\n'"
      ]
     },
     "execution_count": 65,
     "metadata": {},
     "output_type": "execute_result"
    }
   ],
   "source": [
    "'''# Install uav metrics modules\n",
    "!pip install uavdeepstand uavstandcount uavgeneralmetrics uavhelpers --extra-index-url https://pypi.science-at-scale.io/\n",
    "!pip install -r ./requirements.txt\n",
    "!conda install gdal\n",
    "!pip list | grep uav\n",
    "''' "
   ]
  },
  {
   "cell_type": "code",
   "execution_count": 66,
   "id": "ff16c97e-6e9a-45b2-b0d1-4eb7b6173d1e",
   "metadata": {},
   "outputs": [],
   "source": [
    "# Shawna gave a dataset with protocol = SD21USASL3 which we do not have. But we will instead look at SD21USASL4\n",
    "# remember your merged 2021 scout assessments and uav metrics are in /domino/datasets/uav-merged-metrics/<trial_name>/<ortho_name>/merged_DF_reduced.csv\n",
    "import glob\n",
    "import json\n",
    "with open('standtrials.json','r') as f:\n",
    "    stand_trials = json.load(f)\n",
    "stand_dict = {}\n",
    "for key in stand_trials.keys():\n",
    "    if 'SD21USASL4' in key:\n",
    "        stand_dict.update({key:stand_trials[key]})\n",
    "#print (stand_trials)"
   ]
  },
  {
   "cell_type": "code",
   "execution_count": 67,
   "id": "9e3d3786-8098-4d7a-a6df-624e26ddd196",
   "metadata": {},
   "outputs": [
    {
     "name": "stdout",
     "output_type": "stream",
     "text": [
      "[2021-12-13 19:55:19,271] {imagine_client.py:128} WARNING - User Email not provided\n"
     ]
    },
    {
     "name": "stderr",
     "output_type": "stream",
     "text": [
      "[2021-12-13 19:55:19,271] {imagine_client.py:128} WARNING - User Email not provided\n"
     ]
    }
   ],
   "source": [
    "# Use Imagine to get the assets for the stand_dict trials and orthos (all plot ids, why not)\n",
    "import json, numpy as np\n",
    "from imagine_functions import Imagine\n",
    "imagine = Imagine()\n"
   ]
  },
  {
   "cell_type": "code",
   "execution_count": 68,
   "id": "fea17a38-ca56-44d5-bc5e-96b043227ffa",
   "metadata": {},
   "outputs": [],
   "source": [
    "# for trial, sub_dict in stand_dict.items():\n",
    "#     print(sub_dict )\n",
    "#     print( \"\\n\")\n",
    "#     print(trial)\n",
    "#     print( \"\\n\")"
   ]
  },
  {
   "cell_type": "code",
   "execution_count": 69,
   "id": "ac190d37-69b1-4920-bdee-5d1b2e14e807",
   "metadata": {
    "scrolled": true
   },
   "outputs": [],
   "source": [
    "assets = [\"tile\",\"metadata\"]  # The tile asset is the RGB plot tile and the metadata is the model metadata asset.\n",
    "for trial, sub_dict in stand_dict.items():\n",
    "    plotlist = sub_dict['plotids']\n",
    "    ortholist = sub_dict['orthos']\n",
    "    for ortho in ortholist:\n",
    "        for pid in plotlist: \n",
    "            # Setting remove=False will print the actual .tif file in a directory as trialname/orthoname/assetname/file.tif\n",
    "            # Not setting this will only return data.\n",
    "            # Data returned will be a dictionary with the asset URI as the key name and \n",
    "\n",
    "            data     = imagine.extract_asset(trial_id=trial,ortho_name=ortho,plot_id=pid,asset=assets[0],remove=False)\n",
    "            metadata = imagine.extract_asset(trial_id=trial,ortho_name=ortho,plot_id=pid,asset=assets[1],remove=False)"
   ]
  },
  {
   "cell_type": "code",
   "execution_count": 70,
   "id": "623f1ead-92aa-43be-aaea-87e8093bf485",
   "metadata": {},
   "outputs": [],
   "source": [
    "data_paths = glob.glob(\"/mnt/assets/*/*/tile/*.tif\")\n",
    "meta_paths = glob.glob(\"/mnt/assets/*/*/metadata/*.json\")\n",
    "# print(data_paths)"
   ]
  },
  {
   "cell_type": "code",
   "execution_count": 71,
   "id": "f446b915-7531-4f97-8490-949b67dbd779",
   "metadata": {},
   "outputs": [],
   "source": [
    "# import pprint\n",
    "meta_list = []\n",
    "data_list = []\n",
    "for i in range(0, len(meta_paths)):\n",
    "    with open(meta_paths[i],'r') as f:\n",
    "        meta_json = json.load(f)\n",
    "        meta_list.append(meta_json)"
   ]
  },
  {
   "cell_type": "code",
   "execution_count": 83,
   "id": "534237f4-3869-46d3-9240-d4eb25bb6c24",
   "metadata": {},
   "outputs": [
    {
     "name": "stdout",
     "output_type": "stream",
     "text": [
      "[107906154;uavgaplength(__init__:345)->uavhelpers.rotate_by_heading]: INFO - horizontal row alignment counter-clockwise rotation=-88.863; geom=1.137, meta=1.137, using meta \n",
      "[107906154;uavgaplength] {'row_gapdst': [2.61, 4.95, 4.7, 2.96], 'row_max_gap': [0.23, 0.45, 0.38, 0.38], 'row_gap_cnt': [46, 60, 64, 40], 'row_gap_thresh_cnt': [46, 60, 64, 40], 'row_gap_percent_veg': [89.5504, 80.2102, 81.2027, 88.1495]}\n",
      "{'gapdst': 15.22, 'observed_rows': 4, 'counted_rows': 2, 'pixels_per_inch': 5.7116, 'max_gap': 0.45, 'deactivate_plot': None, 'plot_deactivation_reason': None, 'gap_cnt': 210, 'gap_thresh_cnt': 210, 'gap_veg_pcnt': 84.78, 'heading_applied': 1.136596382780394, 'row_gapdst': [2.61, 4.95, 4.7, 2.96], 'row_max_gap': [0.23, 0.45, 0.38, 0.38], 'row_gap_cnt': [46, 60, 64, 40], 'row_gap_thresh_cnt': [46, 60, 64, 40], 'row_gap_percent_veg': [89.5504, 80.2102, 81.2027, 88.1495]}\n"
     ]
    }
   ],
   "source": [
    "import uavgaplength as gap\n",
    "with open(meta_paths[0],'r') as f:\n",
    "    meta_json = json.load(f)\n",
    "#gap.process(data_paths[0], meta_json,\"./results\")\n",
    "result_dict = gap.process(data_paths[0], meta_json,\"./results\")\n",
    "print(result_dict) #"
   ]
  },
  {
   "cell_type": "code",
   "execution_count": 80,
   "id": "84b81157-8c39-4d15-bbdb-1eb644958e9c",
   "metadata": {},
   "outputs": [
    {
     "name": "stdout",
     "output_type": "stream",
     "text": [
      "{'gapdst': 15.22, 'observed_rows': 4, 'counted_rows': 2, 'pixels_per_inch': 5.7116, 'max_gap': 0.45, 'deactivate_plot': None, 'plot_deactivation_reason': None, 'gap_cnt': 210, 'gap_thresh_cnt': 210, 'gap_veg_pcnt': 84.78, 'heading_applied': 1.136596382780394, 'row_gapdst': [2.61, 4.95, 4.7, 2.96], 'row_max_gap': [0.23, 0.45, 0.38, 0.38], 'row_gap_cnt': [46, 60, 64, 40], 'row_gap_thresh_cnt': [46, 60, 64, 40], 'row_gap_percent_veg': [89.5504, 80.2102, 81.2027, 88.1495]}\n"
     ]
    }
   ],
   "source": [
    "print(result_dict)"
   ]
  },
  {
   "cell_type": "code",
   "execution_count": 76,
   "id": "41336849-cf35-460a-a816-f6b9e893db29",
   "metadata": {},
   "outputs": [
    {
     "name": "stdout",
     "output_type": "stream",
     "text": [
      "<class 'dict'>\n",
      "<class 'dict'>\n"
     ]
    }
   ],
   "source": [
    "# print(len(meta_list))\n",
    "# print(data_paths[0])\n",
    "# print(meta_list[0])\n",
    "# print(meta_list[0])\n",
    "# print(meta_json)\n",
    "print(type (meta_list[0]))\n",
    "print(type (meta_json))"
   ]
  },
  {
   "cell_type": "code",
   "execution_count": 91,
   "id": "9da61362-3c78-4c47-b67f-e1e4f2d426dc",
   "metadata": {},
   "outputs": [
    {
     "name": "stdout",
     "output_type": "stream",
     "text": [
      "[107906154;uavgaplength(__init__:345)->uavhelpers.rotate_by_heading]: INFO - horizontal row alignment counter-clockwise rotation=-88.863; geom=1.137, meta=1.137, using meta \n",
      "[107906154;uavgaplength] {'row_gapdst': [2.61, 4.95, 4.7, 2.96], 'row_max_gap': [0.23, 0.45, 0.38, 0.38], 'row_gap_cnt': [46, 60, 64, 40], 'row_gap_thresh_cnt': [46, 60, 64, 40], 'row_gap_percent_veg': [89.5504, 80.2102, 81.2027, 88.1495]}\n",
      "[107800552;uavgaplength(__init__:345)->uavhelpers.rotate_by_heading]: INFO - horizontal row alignment counter-clockwise rotation=-88.074; geom=1.926, meta=1.926, using meta \n",
      "[107800552;uavgaplength] {'row_gapdst': [3.45, 7.17, 8.2, 4.06], 'row_max_gap': [0.14, 0.25, 0.39, 0.19], 'row_gap_cnt': [101, 177, 193, 118], 'row_gap_thresh_cnt': [101, 177, 193, 118], 'row_gap_percent_veg': [86.1987, 71.3267, 67.1925, 83.7596]}\n",
      "[107800534;uavgaplength(__init__:345)->uavhelpers.rotate_by_heading]: INFO - horizontal row alignment counter-clockwise rotation=-88.073; geom=1.927, meta=1.927, using meta \n",
      "[107800534;uavgaplength] {'row_gapdst': [6.89, 6.04, 7.25, 4.71], 'row_max_gap': [0.23, 0.19, 0.3, 0.18], 'row_gap_cnt': [191, 175, 175, 154], 'row_gap_thresh_cnt': [191, 175, 175, 154], 'row_gap_percent_veg': [72.4569, 75.8478, 70.9999, 81.1421]}\n",
      "[107800556;uavgaplength(__init__:345)->uavhelpers.rotate_by_heading]: INFO - horizontal row alignment counter-clockwise rotation=-88.074; geom=1.926, meta=1.926, using meta \n",
      "[107800556;uavgaplength] {'row_gapdst': [2.94, 6.63, 5.87, 4.94], 'row_max_gap': [0.19, 0.28, 0.27, 0.22], 'row_gap_cnt': [89, 159, 153, 132], 'row_gap_thresh_cnt': [89, 159, 153, 132], 'row_gap_percent_veg': [88.2214, 73.4684, 76.5021, 80.2501]}\n",
      "[107800541;uavgaplength(__init__:345)->uavhelpers.rotate_by_heading]: INFO - horizontal row alignment counter-clockwise rotation=-88.070; geom=1.932, meta=1.930, using meta \n",
      "[107800541;uavgaplength] {'row_gapdst': [4.7, 4.74, 3.29, 2.6], 'row_max_gap': [0.11, 0.19, 0.15, 0.16], 'row_gap_cnt': [154, 166, 120, 97], 'row_gap_thresh_cnt': [154, 166, 120, 97], 'row_gap_percent_veg': [81.2019, 81.0233, 86.8529, 89.5897]}\n",
      "[107800537;uavgaplength(__init__:345)->uavhelpers.rotate_by_heading]: INFO - horizontal row alignment counter-clockwise rotation=-88.070; geom=1.932, meta=1.930, using meta \n",
      "[107800537;uavgaplength] {'row_gapdst': [5.52, 4.2, 7.33, 5.61], 'row_max_gap': [0.22, 0.22, 0.22, 0.19], 'row_gap_cnt': [156, 136, 189, 151], 'row_gap_thresh_cnt': [156, 136, 189, 151], 'row_gap_percent_veg': [77.9301, 83.1946, 70.6723, 77.5433]}\n",
      "[107800536;uavgaplength(__init__:345)->uavhelpers.rotate_by_heading]: INFO - horizontal row alignment counter-clockwise rotation=-88.073; geom=1.927, meta=1.927, using meta \n",
      "[107800536;uavgaplength] {'row_gapdst': [5.41, 4.92, 7.05, 6.27], 'row_max_gap': [0.28, 0.21, 0.19, 0.2], 'row_gap_cnt': [170, 146, 166, 162], 'row_gap_thresh_cnt': [170, 146, 166, 162], 'row_gap_percent_veg': [78.3761, 80.3094, 71.8025, 74.9257]}\n",
      "[107800532;uavgaplength(__init__:345)->uavhelpers.rotate_by_heading]: INFO - horizontal row alignment counter-clockwise rotation=-88.073; geom=1.927, meta=1.927, using meta \n",
      "[107800532;uavgaplength] {'row_gapdst': [6.29, 7.16, 8.08, 5.81], 'row_max_gap': [0.19, 0.25, 0.3, 0.25], 'row_gap_cnt': [179, 182, 189, 155], 'row_gap_thresh_cnt': [179, 182, 189, 155], 'row_gap_percent_veg': [74.8367, 71.3565, 67.6979, 76.7401]}\n",
      "[107800542;uavgaplength(__init__:345)->uavhelpers.rotate_by_heading]: INFO - horizontal row alignment counter-clockwise rotation=-88.070; geom=1.932, meta=1.930, using meta \n",
      "[107800542;uavgaplength] {'row_gapdst': [6.05, 7.48, 6.77, 5.44], 'row_max_gap': [0.34, 0.29, 0.28, 0.33], 'row_gap_cnt': [134, 165, 183, 140], 'row_gap_thresh_cnt': [134, 165, 183, 140], 'row_gap_percent_veg': [75.7884, 70.0773, 72.9033, 78.2574]}\n",
      "[107800557;uavgaplength(__init__:345)->uavhelpers.rotate_by_heading]: INFO - horizontal row alignment counter-clockwise rotation=-88.074; geom=1.926, meta=1.926, using meta \n",
      "[107800557;uavgaplength] {'row_gapdst': [4.11, 5.71, 7.15, 5.0], 'row_max_gap': [0.14, 0.24, 0.25, 0.31], 'row_gap_cnt': [120, 168, 148, 145], 'row_gap_thresh_cnt': [120, 168, 148, 145], 'row_gap_percent_veg': [83.5515, 77.1564, 71.3863, 79.9822]}\n",
      "[107800550;uavgaplength(__init__:345)->uavhelpers.rotate_by_heading]: INFO - horizontal row alignment counter-clockwise rotation=-88.072; geom=1.927, meta=1.928, using meta \n",
      "[107800550;uavgaplength] {'row_gapdst': [5.84, 6.15, 6.63, 4.1], 'row_max_gap': [0.16, 0.24, 0.31, 0.17], 'row_gap_cnt': [158, 185, 178, 116], 'row_gap_thresh_cnt': [158, 185, 178, 116], 'row_gap_percent_veg': [76.6212, 75.4016, 73.498, 83.581]}\n",
      "[107800543;uavgaplength(__init__:345)->uavhelpers.rotate_by_heading]: INFO - horizontal row alignment counter-clockwise rotation=-88.070; geom=1.932, meta=1.930, using meta \n",
      "[107800543;uavgaplength] {'row_gapdst': [7.1, 7.72, 7.72, 5.5], 'row_max_gap': [0.28, 0.25, 0.23, 0.21], 'row_gap_cnt': [181, 181, 201, 175], 'row_gap_thresh_cnt': [181, 181, 201, 175], 'row_gap_percent_veg': [71.5943, 69.1256, 69.1254, 77.9895]}\n",
      "[107800535;uavgaplength(__init__:345)->uavhelpers.rotate_by_heading]: INFO - horizontal row alignment counter-clockwise rotation=-88.073; geom=1.927, meta=1.927, using meta \n",
      "[107800535;uavgaplength] {'row_gapdst': [4.31, 3.09, 4.34, 3.9], 'row_max_gap': [0.15, 0.16, 0.1, 0.16], 'row_gap_cnt': [150, 127, 176, 139], 'row_gap_thresh_cnt': [150, 127, 176, 139], 'row_gap_percent_veg': [82.7783, 87.6264, 82.6592, 84.4144]}\n",
      "[107800544;uavgaplength(__init__:345)->uavhelpers.rotate_by_heading]: INFO - horizontal row alignment counter-clockwise rotation=-88.072; geom=1.927, meta=1.928, using meta \n",
      "[107800544;uavgaplength] {'row_gapdst': [3.32, 2.33, 2.57, 4.36], 'row_max_gap': [0.11, 0.11, 0.15, 0.22], 'row_gap_cnt': [133, 108, 96, 150], 'row_gap_thresh_cnt': [133, 108, 96, 150], 'row_gap_percent_veg': [86.7043, 90.6602, 89.7085, 82.5699]}\n",
      "[107800539;uavgaplength(__init__:345)->uavhelpers.rotate_by_heading]: INFO - horizontal row alignment counter-clockwise rotation=-88.070; geom=1.932, meta=1.930, using meta \n",
      "[107800539;uavgaplength] {'row_gapdst': [3.7, 5.26, 4.55, 3.76], 'row_max_gap': [0.19, 0.3, 0.27, 0.19], 'row_gap_cnt': [136, 139, 146, 128], 'row_gap_thresh_cnt': [136, 139, 146, 128], 'row_gap_percent_veg': [85.2174, 78.9412, 81.7967, 84.9495]}\n",
      "[107800548;uavgaplength(__init__:345)->uavhelpers.rotate_by_heading]: INFO - horizontal row alignment counter-clockwise rotation=-88.072; geom=1.927, meta=1.928, using meta \n",
      "[107800548;uavgaplength] {'row_gapdst': [2.24, 2.39, 4.67, 5.11], 'row_max_gap': [0.13, 0.19, 0.19, 0.15], 'row_gap_cnt': [82, 85, 135, 151], 'row_gap_thresh_cnt': [82, 85, 135, 151], 'row_gap_percent_veg': [91.047, 90.4224, 81.3206, 79.5657]}\n",
      "[107800553;uavgaplength(__init__:345)->uavhelpers.rotate_by_heading]: INFO - horizontal row alignment counter-clockwise rotation=-88.074; geom=1.926, meta=1.926, using meta \n",
      "[107800553;uavgaplength] {'row_gapdst': [4.89, 4.97, 4.31, 6.39], 'row_max_gap': [0.22, 0.22, 0.14, 0.3], 'row_gap_cnt': [140, 174, 126, 179], 'row_gap_thresh_cnt': [140, 174, 126, 179], 'row_gap_percent_veg': [80.4283, 80.1014, 82.7484, 74.4496]}\n",
      "[107800531;uavgaplength(__init__:345)->uavhelpers.rotate_by_heading]: INFO - horizontal row alignment counter-clockwise rotation=-88.073; geom=1.927, meta=1.927, using meta \n",
      "[107800531;uavgaplength] {'row_gapdst': [5.46, 5.8, 8.31, 6.19], 'row_max_gap': [0.18, 0.2, 0.3, 0.2], 'row_gap_cnt': [162, 155, 194, 167], 'row_gap_thresh_cnt': [162, 155, 194, 167], 'row_gap_percent_veg': [78.1679, 76.7995, 66.776, 75.2233]}\n",
      "[107800546;uavgaplength(__init__:345)->uavhelpers.rotate_by_heading]: INFO - horizontal row alignment counter-clockwise rotation=-88.072; geom=1.927, meta=1.928, using meta \n",
      "[107800546;uavgaplength] {'row_gapdst': [5.0, 5.56, 3.67, 2.01], 'row_max_gap': [0.22, 0.23, 0.19, 0.1], 'row_gap_cnt': [157, 165, 116, 83], 'row_gap_thresh_cnt': [157, 165, 116, 83], 'row_gap_percent_veg': [80.0121, 77.7514, 85.336, 91.9692]}\n",
      "[107800545;uavgaplength(__init__:345)->uavhelpers.rotate_by_heading]: INFO - horizontal row alignment counter-clockwise rotation=-88.072; geom=1.927, meta=1.928, using meta \n",
      "[107800545;uavgaplength] {'row_gapdst': [2.62, 4.42, 3.94, 4.55], 'row_max_gap': [0.27, 0.16, 0.18, 0.23], 'row_gap_cnt': [103, 143, 102, 118], 'row_gap_thresh_cnt': [103, 143, 102, 118], 'row_gap_percent_veg': [89.5003, 82.3319, 84.2354, 81.7966]}\n",
      "[107800551;uavgaplength(__init__:345)->uavhelpers.rotate_by_heading]: INFO - horizontal row alignment counter-clockwise rotation=-88.074; geom=1.926, meta=1.926, using meta \n",
      "[107800551;uavgaplength] {'row_gapdst': [5.56, 5.5, 6.91, 7.28], 'row_max_gap': [0.31, 0.2, 0.22, 0.2], 'row_gap_cnt': [143, 156, 188, 181], 'row_gap_thresh_cnt': [143, 156, 188, 181], 'row_gap_percent_veg': [77.7517, 78.0191, 72.3677, 70.8804]}\n",
      "[107800549;uavgaplength(__init__:345)->uavhelpers.rotate_by_heading]: INFO - horizontal row alignment counter-clockwise rotation=-88.072; geom=1.927, meta=1.928, using meta \n",
      "[107800549;uavgaplength] {'row_gapdst': [4.86, 5.52, 6.74, 3.72], 'row_max_gap': [0.17, 0.18, 0.2, 0.18], 'row_gap_cnt': [151, 140, 176, 115], 'row_gap_thresh_cnt': [151, 140, 176, 115], 'row_gap_percent_veg': [80.5472, 77.9001, 73.0516, 85.128]}\n",
      "[107800555;uavgaplength(__init__:345)->uavhelpers.rotate_by_heading]: INFO - horizontal row alignment counter-clockwise rotation=-88.074; geom=1.926, meta=1.926, using meta \n",
      "[107800555;uavgaplength] {'row_gapdst': [5.44, 8.22, 6.01, 6.68], 'row_max_gap': [0.33, 0.38, 0.24, 0.32], 'row_gap_cnt': [127, 182, 144, 155], 'row_gap_thresh_cnt': [127, 182, 144, 155], 'row_gap_percent_veg': [78.2274, 67.1326, 75.9667, 73.2604]}\n",
      "[107800533;uavgaplength(__init__:345)->uavhelpers.rotate_by_heading]: INFO - horizontal row alignment counter-clockwise rotation=-88.073; geom=1.927, meta=1.927, using meta \n",
      "[107800533;uavgaplength] {'row_gapdst': [7.32, 5.02, 7.27, 7.29], 'row_max_gap': [0.25, 0.22, 0.39, 0.48], 'row_gap_cnt': [165, 145, 189, 146], 'row_gap_thresh_cnt': [165, 145, 189, 146], 'row_gap_percent_veg': [70.7316, 79.9227, 70.9104, 70.8506]}\n",
      "[107800540;uavgaplength(__init__:345)->uavhelpers.rotate_by_heading]: INFO - horizontal row alignment counter-clockwise rotation=-88.070; geom=1.932, meta=1.930, using meta \n",
      "[107800540;uavgaplength] {'row_gapdst': [5.01, 5.23, 9.03, 6.65], 'row_max_gap': [0.24, 0.19, 0.36, 0.27], 'row_gap_cnt': [137, 157, 180, 183], 'row_gap_thresh_cnt': [137, 157, 180, 183], 'row_gap_percent_veg': [79.9526, 79.0603, 63.8909, 73.4087]}\n",
      "[107800530;uavgaplength(__init__:345)->uavhelpers.rotate_by_heading]: INFO - horizontal row alignment counter-clockwise rotation=-88.073; geom=1.927, meta=1.927, using meta \n",
      "[107800530;uavgaplength] {'row_gapdst': [4.64, 4.32, 4.59, 3.32], 'row_max_gap': [0.3, 0.2, 0.15, 0.19], 'row_gap_cnt': [122, 128, 172, 115], 'row_gap_thresh_cnt': [122, 128, 172, 115], 'row_gap_percent_veg': [81.4395, 82.7187, 81.6481, 86.7342]}\n",
      "[107800538;uavgaplength(__init__:345)->uavhelpers.rotate_by_heading]: INFO - horizontal row alignment counter-clockwise rotation=-88.070; geom=1.932, meta=1.930, using meta \n",
      "[107800538;uavgaplength] {'row_gapdst': [5.23, 3.45, 7.38, 7.91], 'row_max_gap': [0.22, 0.19, 0.22, 0.41], 'row_gap_cnt': [135, 107, 149, 138], 'row_gap_thresh_cnt': [135, 107, 149, 138], 'row_gap_percent_veg': [79.0602, 86.1988, 70.494, 68.3523]}\n",
      "[107800547;uavgaplength(__init__:345)->uavhelpers.rotate_by_heading]: INFO - horizontal row alignment counter-clockwise rotation=-88.072; geom=1.927, meta=1.928, using meta \n",
      "[107800547;uavgaplength] {'row_gapdst': [3.2, 4.72, 5.18, 2.51], 'row_max_gap': [0.13, 0.16, 0.23, 0.11], 'row_gap_cnt': [125, 154, 140, 99], 'row_gap_thresh_cnt': [125, 154, 140, 99], 'row_gap_percent_veg': [87.2102, 81.1126, 79.2684, 89.9764]}\n",
      "[107800554;uavgaplength(__init__:345)->uavhelpers.rotate_by_heading]: INFO - horizontal row alignment counter-clockwise rotation=-88.074; geom=1.926, meta=1.926, using meta \n",
      "[107800554;uavgaplength] {'row_gapdst': [2.23, 5.47, 6.41, 5.64], 'row_max_gap': [0.08, 0.17, 0.21, 0.19], 'row_gap_cnt': [108, 141, 175, 149], 'row_gap_thresh_cnt': [108, 141, 175, 149], 'row_gap_percent_veg': [91.0768, 78.1082, 74.3607, 77.4541]}\n",
      "[107800552;uavgaplength(__init__:345)->uavhelpers.rotate_by_heading]: INFO - horizontal row alignment counter-clockwise rotation=-88.319; geom=1.680, meta=1.681, using meta \n",
      "[107800552;uavgaplength] {'row_gapdst': [4.0, 3.95, 4.61, 2.1], 'row_max_gap': [0.41, 0.29, 0.32, 0.2], 'row_gap_cnt': [49, 52, 56, 36], 'row_gap_thresh_cnt': [49, 52, 56, 36], 'row_gap_percent_veg': [84.0048, 84.1798, 81.5529, 91.5937]}\n",
      "[107800534;uavgaplength(__init__:345)->uavhelpers.rotate_by_heading]: INFO - horizontal row alignment counter-clockwise rotation=-88.319; geom=1.683, meta=1.681, using meta \n",
      "[107800534;uavgaplength] {'row_gapdst': [3.92, 3.66, 3.57, 2.33], 'row_max_gap': [0.45, 0.31, 0.25, 0.31], 'row_gap_cnt': [50, 46, 50, 30], 'row_gap_thresh_cnt': [50, 46, 50, 30], 'row_gap_percent_veg': [84.2965, 85.3473, 85.6976, 90.6597]}\n",
      "[107800556;uavgaplength(__init__:345)->uavhelpers.rotate_by_heading]: INFO - horizontal row alignment counter-clockwise rotation=-88.319; geom=1.683, meta=1.681, using meta \n",
      "[107800556;uavgaplength] {'row_gapdst': [0.71, 1.59, 1.81, 2.14], 'row_max_gap': [0.13, 0.22, 0.2, 0.16], 'row_gap_cnt': [15, 31, 35, 40], 'row_gap_thresh_cnt': [15, 31, 35, 40], 'row_gap_percent_veg': [97.1395, 93.6368, 92.7612, 91.4185]}\n",
      "[107800541;uavgaplength(__init__:345)->uavhelpers.rotate_by_heading]: INFO - horizontal row alignment counter-clockwise rotation=-88.315; geom=1.685, meta=1.685, using meta \n",
      "[107800541;uavgaplength] {'row_gapdst': [3.22, 3.27, 1.56, 1.33], 'row_max_gap': [0.36, 0.39, 0.25, 0.25], 'row_gap_cnt': [29, 38, 26, 18], 'row_gap_thresh_cnt': [29, 38, 26, 18], 'row_gap_percent_veg': [87.0987, 86.9235, 93.7536, 94.6876]}\n",
      "[107800537;uavgaplength(__init__:345)->uavhelpers.rotate_by_heading]: INFO - horizontal row alignment counter-clockwise rotation=-88.315; geom=1.685, meta=1.685, using meta \n",
      "[107800537;uavgaplength] {'row_gapdst': [1.78, 1.5, 3.97, 2.44], 'row_max_gap': [0.25, 0.22, 0.42, 0.26], 'row_gap_cnt': [29, 23, 43, 39], 'row_gap_thresh_cnt': [29, 23, 43, 39], 'row_gap_percent_veg': [92.878, 93.9871, 84.1214, 90.2511]}\n",
      "[107800536;uavgaplength(__init__:345)->uavhelpers.rotate_by_heading]: INFO - horizontal row alignment counter-clockwise rotation=-88.319; geom=1.683, meta=1.681, using meta \n",
      "[107800536;uavgaplength] {'row_gapdst': [2.09, 1.98, 2.55, 5.08], 'row_max_gap': [0.54, 0.22, 0.36, 0.88], 'row_gap_cnt': [29, 30, 44, 40], 'row_gap_thresh_cnt': [29, 30, 44, 40], 'row_gap_percent_veg': [91.652, 92.0607, 89.7838, 79.6847]}\n",
      "[107800532;uavgaplength(__init__:345)->uavhelpers.rotate_by_heading]: INFO - horizontal row alignment counter-clockwise rotation=-88.319; geom=1.683, meta=1.681, using meta \n",
      "[107800532;uavgaplength] {'row_gapdst': [2.86, 2.98, 2.74, 1.44], 'row_max_gap': [0.38, 0.2, 0.36, 0.2], 'row_gap_cnt': [44, 45, 40, 27], 'row_gap_thresh_cnt': [44, 45, 40, 27], 'row_gap_percent_veg': [88.558, 88.0911, 89.0251, 94.2205]}\n",
      "[107800542;uavgaplength(__init__:345)->uavhelpers.rotate_by_heading]: INFO - horizontal row alignment counter-clockwise rotation=-88.315; geom=1.685, meta=1.685, using meta \n",
      "[107800542;uavgaplength] {'row_gapdst': [1.91, 1.63, 1.6, 2.07], 'row_max_gap': [0.29, 0.22, 0.32, 0.44], 'row_gap_cnt': [28, 28, 24, 27], 'row_gap_thresh_cnt': [28, 28, 24, 27], 'row_gap_percent_veg': [92.3526, 93.4617, 93.5786, 91.7104]}\n",
      "[107800557;uavgaplength(__init__:345)->uavhelpers.rotate_by_heading]: INFO - horizontal row alignment counter-clockwise rotation=-88.319; geom=1.683, meta=1.681, using meta \n",
      "[107800557;uavgaplength] {'row_gapdst': [1.27, 1.72, 2.7, 2.76], 'row_max_gap': [0.16, 0.23, 0.35, 0.28], 'row_gap_cnt': [23, 26, 38, 33], 'row_gap_thresh_cnt': [23, 26, 38, 33], 'row_gap_percent_veg': [94.9212, 93.1116, 89.2002, 88.9667]}\n",
      "[107800550;uavgaplength(__init__:345)->uavhelpers.rotate_by_heading]: INFO - horizontal row alignment counter-clockwise rotation=-88.317; geom=1.680, meta=1.683, using meta \n",
      "[107800550;uavgaplength] {'row_gapdst': [3.33, 3.5, 4.14, 2.8], 'row_max_gap': [0.54, 0.31, 0.5, 0.2], 'row_gap_cnt': [52, 51, 53, 44], 'row_gap_thresh_cnt': [52, 51, 53, 44], 'row_gap_percent_veg': [86.6899, 85.9895, 83.421, 88.7915]}\n",
      "[107800543;uavgaplength(__init__:345)->uavhelpers.rotate_by_heading]: INFO - horizontal row alignment counter-clockwise rotation=-88.315; geom=1.685, meta=1.685, using meta \n",
      "[107800543;uavgaplength] {'row_gapdst': [2.87, 3.18, 3.74, 1.31], 'row_max_gap': [0.55, 0.51, 0.42, 0.19], 'row_gap_cnt': [33, 41, 34, 25], 'row_gap_thresh_cnt': [33, 41, 34, 25], 'row_gap_percent_veg': [88.4996, 87.2737, 85.0554, 94.7461]}\n",
      "[107800535;uavgaplength(__init__:345)->uavhelpers.rotate_by_heading]: INFO - horizontal row alignment counter-clockwise rotation=-88.319; geom=1.683, meta=1.681, using meta \n",
      "[107800535;uavgaplength] {'row_gapdst': [1.12, 0.63, 1.97, 1.6], 'row_max_gap': [0.19, 0.23, 0.23, 0.2], 'row_gap_cnt': [17, 13, 31, 25], 'row_gap_thresh_cnt': [17, 13, 31, 25], 'row_gap_percent_veg': [95.505, 97.4897, 92.1192, 93.5785]}\n",
      "[107800544;uavgaplength(__init__:345)->uavhelpers.rotate_by_heading]: INFO - horizontal row alignment counter-clockwise rotation=-88.317; geom=1.683, meta=1.683, using meta \n",
      "[107800544;uavgaplength] {'row_gapdst': [1.93, 1.15, 0.42, 1.36], 'row_max_gap': [0.25, 0.13, 0.09, 0.22], 'row_gap_cnt': [27, 20, 12, 20], 'row_gap_thresh_cnt': [27, 20, 12, 20], 'row_gap_percent_veg': [92.2942, 95.3882, 98.307, 94.571]}\n",
      "[107800539;uavgaplength(__init__:345)->uavhelpers.rotate_by_heading]: INFO - horizontal row alignment counter-clockwise rotation=-88.315; geom=1.685, meta=1.685, using meta \n",
      "[107800539;uavgaplength] {'row_gapdst': [1.3, 2.39, 1.33, 1.49], 'row_max_gap': [0.23, 0.29, 0.15, 0.35], 'row_gap_cnt': [23, 34, 30, 26], 'row_gap_thresh_cnt': [23, 34, 30, 26], 'row_gap_percent_veg': [94.8045, 90.4261, 94.6877, 94.0456]}\n",
      "[107800548;uavgaplength(__init__:345)->uavhelpers.rotate_by_heading]: INFO - horizontal row alignment counter-clockwise rotation=-88.317; geom=1.683, meta=1.683, using meta \n",
      "[107800548;uavgaplength] {'row_gapdst': [1.81, 1.71, 2.09, 3.44], 'row_max_gap': [0.26, 0.22, 0.25, 0.28], 'row_gap_cnt': [29, 36, 39, 46], 'row_gap_thresh_cnt': [29, 36, 39, 46], 'row_gap_percent_veg': [92.7612, 93.1699, 91.6521, 86.2231]}\n",
      "[107800553;uavgaplength(__init__:345)->uavhelpers.rotate_by_heading]: INFO - horizontal row alignment counter-clockwise rotation=-88.319; geom=1.680, meta=1.681, using meta \n",
      "[107800553;uavgaplength] {'row_gapdst': [3.2, 2.36, 2.73, 2.89], 'row_max_gap': [0.74, 0.2, 0.34, 0.35], 'row_gap_cnt': [36, 38, 44, 36], 'row_gap_thresh_cnt': [36, 38, 44, 36], 'row_gap_percent_veg': [87.2153, 90.5428, 89.0834, 88.4413]}\n",
      "[107800531;uavgaplength(__init__:345)->uavhelpers.rotate_by_heading]: INFO - horizontal row alignment counter-clockwise rotation=-88.319; geom=1.683, meta=1.681, using meta \n",
      "[107800531;uavgaplength] {'row_gapdst': [1.68, 1.47, 3.03, 2.55], 'row_max_gap': [0.26, 0.25, 0.48, 0.35], 'row_gap_cnt': [29, 26, 35, 29], 'row_gap_thresh_cnt': [29, 26, 35, 29], 'row_gap_percent_veg': [93.2866, 94.104, 87.8576, 89.784]}\n",
      "[107800546;uavgaplength(__init__:345)->uavhelpers.rotate_by_heading]: INFO - horizontal row alignment counter-clockwise rotation=-88.317; geom=1.683, meta=1.683, using meta \n",
      "[107800546;uavgaplength] {'row_gapdst': [1.28, 2.14, 0.82, 1.42], 'row_max_gap': [0.44, 0.28, 0.19, 0.47], 'row_gap_cnt': [23, 36, 15, 18], 'row_gap_thresh_cnt': [23, 36, 15, 18], 'row_gap_percent_veg': [94.8628, 91.4185, 96.7308, 94.3374]}\n",
      "[107800545;uavgaplength(__init__:345)->uavhelpers.rotate_by_heading]: INFO - horizontal row alignment counter-clockwise rotation=-88.317; geom=1.683, meta=1.683, using meta \n",
      "[107800545;uavgaplength] {'row_gapdst': [0.6, 0.5, 0.76, 1.24], 'row_max_gap': [0.16, 0.2, 0.23, 0.2], 'row_gap_cnt': [15, 11, 11, 20], 'row_gap_thresh_cnt': [15, 11, 11, 20], 'row_gap_percent_veg': [97.6065, 98.0152, 96.9644, 95.0379]}\n",
      "[107800551;uavgaplength(__init__:345)->uavhelpers.rotate_by_heading]: INFO - horizontal row alignment counter-clockwise rotation=-88.319; geom=1.680, meta=1.681, using meta \n",
      "[107800551;uavgaplength] {'row_gapdst': [2.54, 1.78, 3.2, 3.98], 'row_max_gap': [0.47, 0.31, 0.29, 1.4], 'row_gap_cnt': [24, 25, 38, 33], 'row_gap_thresh_cnt': [24, 25, 38, 33], 'row_gap_percent_veg': [89.8423, 92.8779, 87.2154, 84.0632]}\n",
      "[107800549;uavgaplength(__init__:345)->uavhelpers.rotate_by_heading]: INFO - horizontal row alignment counter-clockwise rotation=-88.317; geom=1.680, meta=1.683, using meta \n",
      "[107800549;uavgaplength] {'row_gapdst': [2.41, 1.88, 2.1, 2.28], 'row_max_gap': [0.32, 0.32, 0.23, 0.25], 'row_gap_cnt': [29, 26, 32, 34], 'row_gap_thresh_cnt': [29, 26, 32, 34], 'row_gap_percent_veg': [90.3677, 92.4694, 91.5938, 90.8931]}\n",
      "[107800555;uavgaplength(__init__:345)->uavhelpers.rotate_by_heading]: INFO - horizontal row alignment counter-clockwise rotation=-88.319; geom=1.680, meta=1.681, using meta \n",
      "[107800555;uavgaplength] {'row_gapdst': [2.63, 3.97, 2.83, 3.92], 'row_max_gap': [0.32, 0.31, 0.2, 0.41], 'row_gap_cnt': [44, 47, 49, 49], 'row_gap_thresh_cnt': [44, 47, 49, 49], 'row_gap_percent_veg': [89.4921, 84.1215, 88.6748, 84.2965]}\n",
      "[107800533;uavgaplength(__init__:345)->uavhelpers.rotate_by_heading]: INFO - horizontal row alignment counter-clockwise rotation=-88.319; geom=1.683, meta=1.681, using meta \n",
      "[107800533;uavgaplength] {'row_gapdst': [2.83, 1.84, 2.6, 3.91], 'row_max_gap': [0.25, 0.2, 0.25, 0.36], 'row_gap_cnt': [37, 31, 42, 42], 'row_gap_thresh_cnt': [37, 31, 42, 42], 'row_gap_percent_veg': [88.6748, 92.6445, 89.609, 84.355]}\n",
      "[107800540;uavgaplength(__init__:345)->uavhelpers.rotate_by_heading]: INFO - horizontal row alignment counter-clockwise rotation=-88.315; geom=1.685, meta=1.685, using meta \n",
      "[107800540;uavgaplength] {'row_gapdst': [2.6, 2.41, 2.79, 2.52], 'row_max_gap': [0.25, 0.35, 0.29, 0.44], 'row_gap_cnt': [40, 45, 37, 38], 'row_gap_thresh_cnt': [40, 45, 37, 38], 'row_gap_percent_veg': [89.6089, 90.3678, 88.8499, 89.9007]}\n",
      "[107800530;uavgaplength(__init__:345)->uavhelpers.rotate_by_heading]: INFO - horizontal row alignment counter-clockwise rotation=-88.319; geom=1.680, meta=1.681, using meta \n",
      "[107800530;uavgaplength] {'row_gapdst': [2.23, 3.76, 2.03, 2.67], 'row_max_gap': [0.35, 0.44, 0.31, 0.39], 'row_gap_cnt': [34, 46, 25, 25], 'row_gap_thresh_cnt': [34, 46, 25, 25], 'row_gap_percent_veg': [91.0682, 84.9387, 91.8856, 89.317]}\n",
      "[107800538;uavgaplength(__init__:345)->uavhelpers.rotate_by_heading]: INFO - horizontal row alignment counter-clockwise rotation=-88.315; geom=1.685, meta=1.685, using meta \n",
      "[107800538;uavgaplength] {'row_gapdst': [1.69, 1.52, 3.06, 3.22], 'row_max_gap': [0.28, 0.42, 0.31, 0.34], 'row_gap_cnt': [23, 24, 38, 48], 'row_gap_thresh_cnt': [23, 24, 38, 48], 'row_gap_percent_veg': [93.2283, 93.9287, 87.7408, 87.0986]}\n",
      "[107800547;uavgaplength(__init__:345)->uavhelpers.rotate_by_heading]: INFO - horizontal row alignment counter-clockwise rotation=-88.317; geom=1.683, meta=1.683, using meta \n",
      "[107800547;uavgaplength] {'row_gapdst': [1.12, 0.93, 1.28, 1.55], 'row_max_gap': [0.5, 0.18, 0.18, 0.25], 'row_gap_cnt': [16, 17, 22, 28], 'row_gap_thresh_cnt': [16, 17, 22, 28], 'row_gap_percent_veg': [95.505, 96.2639, 94.8628, 93.812]}\n",
      "[107800554;uavgaplength(__init__:345)->uavhelpers.rotate_by_heading]: INFO - horizontal row alignment counter-clockwise rotation=-88.319; geom=1.680, meta=1.681, using meta \n",
      "[107800554;uavgaplength] {'row_gapdst': [2.04, 3.68, 3.22, 2.66], 'row_max_gap': [0.8, 0.82, 0.73, 0.55], 'row_gap_cnt': [28, 43, 35, 29], 'row_gap_thresh_cnt': [28, 43, 35, 29], 'row_gap_percent_veg': [91.8272, 85.2889, 87.0987, 89.3754]}\n",
      "[113662594;uavgaplength(__init__:286)->uavhelpers.validate_aoi]: plot length meta does not match within 10% of its geometry (720.00 vs 244.80 in) \n",
      "[113662591;uavgaplength(__init__:286)->uavhelpers.validate_aoi]: plot length meta does not match within 10% of its geometry (720.00 vs 244.80 in) \n",
      "[113662599;uavgaplength(__init__:286)->uavhelpers.validate_aoi]: plot length meta does not match within 10% of its geometry (720.00 vs 244.80 in) \n",
      "[113662608;uavgaplength(__init__:286)->uavhelpers.validate_aoi]: plot length meta does not match within 10% of its geometry (720.00 vs 244.80 in) \n",
      "[113662618;uavgaplength(__init__:286)->uavhelpers.validate_aoi]: plot length meta does not match within 10% of its geometry (720.00 vs 244.80 in) \n",
      "[113662588;uavgaplength(__init__:286)->uavhelpers.validate_aoi]: plot length meta does not match within 10% of its geometry (720.00 vs 244.80 in) \n",
      "[113662617;uavgaplength(__init__:286)->uavhelpers.validate_aoi]: plot length meta does not match within 10% of its geometry (720.00 vs 244.80 in) \n",
      "[113662610;uavgaplength(__init__:286)->uavhelpers.validate_aoi]: plot length meta does not match within 10% of its geometry (720.00 vs 244.80 in) \n",
      "[113662592;uavgaplength(__init__:286)->uavhelpers.validate_aoi]: plot length meta does not match within 10% of its geometry (720.00 vs 244.80 in) \n",
      "[113662604;uavgaplength(__init__:286)->uavhelpers.validate_aoi]: plot length meta does not match within 10% of its geometry (720.00 vs 244.80 in) \n",
      "[113662616;uavgaplength(__init__:286)->uavhelpers.validate_aoi]: plot length meta does not match within 10% of its geometry (720.00 vs 244.80 in) \n",
      "[113662606;uavgaplength(__init__:286)->uavhelpers.validate_aoi]: plot length meta does not match within 10% of its geometry (720.00 vs 244.80 in) \n",
      "[113662595;uavgaplength(__init__:286)->uavhelpers.validate_aoi]: plot length meta does not match within 10% of its geometry (720.00 vs 244.80 in) \n",
      "[113662589;uavgaplength(__init__:286)->uavhelpers.validate_aoi]: plot length meta does not match within 10% of its geometry (720.00 vs 244.80 in) \n",
      "[113662614;uavgaplength(__init__:286)->uavhelpers.validate_aoi]: plot length meta does not match within 10% of its geometry (720.00 vs 244.80 in) \n",
      "[113662613;uavgaplength(__init__:286)->uavhelpers.validate_aoi]: plot length meta does not match within 10% of its geometry (720.00 vs 244.80 in) \n",
      "[113662609;uavgaplength(__init__:286)->uavhelpers.validate_aoi]: plot length meta does not match within 10% of its geometry (720.00 vs 244.80 in) \n",
      "[113662593;uavgaplength(__init__:286)->uavhelpers.validate_aoi]: plot length meta does not match within 10% of its geometry (720.00 vs 244.80 in) \n",
      "[113662601;uavgaplength(__init__:286)->uavhelpers.validate_aoi]: plot length meta does not match within 10% of its geometry (720.00 vs 244.80 in) \n",
      "[113662596;uavgaplength(__init__:286)->uavhelpers.validate_aoi]: plot length meta does not match within 10% of its geometry (720.00 vs 244.80 in) \n",
      "[113662602;uavgaplength(__init__:286)->uavhelpers.validate_aoi]: plot length meta does not match within 10% of its geometry (720.00 vs 244.80 in) \n",
      "[113662600;uavgaplength(__init__:286)->uavhelpers.validate_aoi]: plot length meta does not match within 10% of its geometry (720.00 vs 244.80 in) \n",
      "[113662597;uavgaplength(__init__:286)->uavhelpers.validate_aoi]: plot length meta does not match within 10% of its geometry (720.00 vs 244.80 in) \n",
      "[113662603;uavgaplength(__init__:286)->uavhelpers.validate_aoi]: plot length meta does not match within 10% of its geometry (720.00 vs 244.80 in) \n",
      "[113662590;uavgaplength(__init__:286)->uavhelpers.validate_aoi]: plot length meta does not match within 10% of its geometry (720.00 vs 244.80 in) \n",
      "[113662612;uavgaplength(__init__:286)->uavhelpers.validate_aoi]: plot length meta does not match within 10% of its geometry (720.00 vs 244.80 in) \n",
      "[113662598;uavgaplength(__init__:286)->uavhelpers.validate_aoi]: plot length meta does not match within 10% of its geometry (720.00 vs 244.80 in) \n",
      "[113662605;uavgaplength(__init__:286)->uavhelpers.validate_aoi]: plot length meta does not match within 10% of its geometry (720.00 vs 244.80 in) \n",
      "[113662594;uavgaplength(__init__:286)->uavhelpers.validate_aoi]: plot length meta does not match within 10% of its geometry (720.00 vs 244.80 in) \n",
      "[113662591;uavgaplength(__init__:286)->uavhelpers.validate_aoi]: plot length meta does not match within 10% of its geometry (720.00 vs 244.80 in) \n",
      "[113662599;uavgaplength(__init__:286)->uavhelpers.validate_aoi]: plot length meta does not match within 10% of its geometry (720.00 vs 244.80 in) \n",
      "[113662608;uavgaplength(__init__:286)->uavhelpers.validate_aoi]: plot length meta does not match within 10% of its geometry (720.00 vs 244.80 in) \n",
      "[113662618;uavgaplength(__init__:286)->uavhelpers.validate_aoi]: plot length meta does not match within 10% of its geometry (720.00 vs 244.80 in) \n",
      "[113662588;uavgaplength(__init__:286)->uavhelpers.validate_aoi]: plot length meta does not match within 10% of its geometry (720.00 vs 244.80 in) \n",
      "[113662617;uavgaplength(__init__:286)->uavhelpers.validate_aoi]: plot length meta does not match within 10% of its geometry (720.00 vs 244.80 in) \n",
      "[113662610;uavgaplength(__init__:286)->uavhelpers.validate_aoi]: plot length meta does not match within 10% of its geometry (720.00 vs 244.80 in) \n",
      "[113662592;uavgaplength(__init__:286)->uavhelpers.validate_aoi]: plot length meta does not match within 10% of its geometry (720.00 vs 244.80 in) \n",
      "[113662604;uavgaplength(__init__:286)->uavhelpers.validate_aoi]: plot length meta does not match within 10% of its geometry (720.00 vs 244.80 in) \n",
      "[113662616;uavgaplength(__init__:286)->uavhelpers.validate_aoi]: plot length meta does not match within 10% of its geometry (720.00 vs 244.80 in) \n",
      "[113662606;uavgaplength(__init__:286)->uavhelpers.validate_aoi]: plot length meta does not match within 10% of its geometry (720.00 vs 244.80 in) \n",
      "[113662595;uavgaplength(__init__:286)->uavhelpers.validate_aoi]: plot length meta does not match within 10% of its geometry (720.00 vs 244.80 in) \n",
      "[113662589;uavgaplength(__init__:286)->uavhelpers.validate_aoi]: plot length meta does not match within 10% of its geometry (720.00 vs 244.80 in) \n",
      "[113662614;uavgaplength(__init__:286)->uavhelpers.validate_aoi]: plot length meta does not match within 10% of its geometry (720.00 vs 244.80 in) \n",
      "[113662613;uavgaplength(__init__:286)->uavhelpers.validate_aoi]: plot length meta does not match within 10% of its geometry (720.00 vs 244.80 in) \n",
      "[113662609;uavgaplength(__init__:286)->uavhelpers.validate_aoi]: plot length meta does not match within 10% of its geometry (720.00 vs 244.80 in) \n",
      "[113662593;uavgaplength(__init__:286)->uavhelpers.validate_aoi]: plot length meta does not match within 10% of its geometry (720.00 vs 244.80 in) \n",
      "[113662601;uavgaplength(__init__:286)->uavhelpers.validate_aoi]: plot length meta does not match within 10% of its geometry (720.00 vs 244.80 in) \n",
      "[113662596;uavgaplength(__init__:286)->uavhelpers.validate_aoi]: plot length meta does not match within 10% of its geometry (720.00 vs 244.80 in) \n",
      "[113662602;uavgaplength(__init__:286)->uavhelpers.validate_aoi]: plot length meta does not match within 10% of its geometry (720.00 vs 244.80 in) \n",
      "[113662600;uavgaplength(__init__:286)->uavhelpers.validate_aoi]: plot length meta does not match within 10% of its geometry (720.00 vs 244.80 in) \n",
      "[113662597;uavgaplength(__init__:286)->uavhelpers.validate_aoi]: plot length meta does not match within 10% of its geometry (720.00 vs 244.80 in) \n",
      "[113662603;uavgaplength(__init__:286)->uavhelpers.validate_aoi]: plot length meta does not match within 10% of its geometry (720.00 vs 244.80 in) \n",
      "[113662590;uavgaplength(__init__:286)->uavhelpers.validate_aoi]: plot length meta does not match within 10% of its geometry (720.00 vs 244.80 in) \n",
      "[113662612;uavgaplength(__init__:286)->uavhelpers.validate_aoi]: plot length meta does not match within 10% of its geometry (720.00 vs 244.80 in) \n",
      "[113662598;uavgaplength(__init__:286)->uavhelpers.validate_aoi]: plot length meta does not match within 10% of its geometry (720.00 vs 244.80 in) \n",
      "[113662605;uavgaplength(__init__:286)->uavhelpers.validate_aoi]: plot length meta does not match within 10% of its geometry (720.00 vs 244.80 in) \n",
      "[109612073;uavgaplength(__init__:345)->uavhelpers.rotate_by_heading]: INFO - horizontal row alignment counter-clockwise rotation=269.180; geom=359.180, meta=0.008, using geometry_override \n",
      "[109612073;uavgaplength] {'row_gapdst': [9.69, 8.82, 11.2, 8.69], 'row_max_gap': [0.68, 0.82, 0.77, 0.42], 'row_gap_cnt': [47, 50, 57, 85], 'row_gap_thresh_cnt': [47, 50, 57, 85], 'row_gap_percent_veg': [67.7032, 70.6007, 62.6619, 71.0485]}\n",
      "[109612071;uavgaplength(__init__:345)->uavhelpers.rotate_by_heading]: INFO - horizontal row alignment counter-clockwise rotation=269.180; geom=359.180, meta=358.942, using geometry_override \n",
      "[109612071;uavgaplength] {'row_gapdst': [10.65, 7.97, 8.13, 10.16], 'row_max_gap': [0.68, 0.93, 0.59, 0.81], 'row_gap_cnt': [50, 56, 52, 61], 'row_gap_thresh_cnt': [50, 56, 52, 61], 'row_gap_percent_veg': [64.4995, 73.4512, 72.9094, 66.1249]}\n",
      "[109612080;uavgaplength(__init__:345)->uavhelpers.rotate_by_heading]: INFO - horizontal row alignment counter-clockwise rotation=-88.150; geom=1.850, meta=0.192, using geometry_override \n",
      "[109612080;uavgaplength] {'row_gapdst': [8.29, 8.57, 13.9, 14.26], 'row_max_gap': [0.71, 1.07, 3.91, 5.23], 'row_gap_cnt': [58, 48, 45, 57], 'row_gap_thresh_cnt': [58, 48, 45, 57], 'row_gap_percent_veg': [72.3676, 71.4488, 53.6867, 52.4617]}\n",
      "[109612076;uavgaplength(__init__:345)->uavhelpers.rotate_by_heading]: INFO - horizontal row alignment counter-clockwise rotation=269.235; geom=359.175, meta=359.235, using meta \n",
      "[109612076;uavgaplength] {'row_gapdst': [12.3, 9.63, 12.44, 13.46], 'row_max_gap': [4.23, 3.49, 4.59, 4.18], 'row_gap_cnt': [43, 46, 43, 49], 'row_gap_thresh_cnt': [43, 46, 43, 49], 'row_gap_percent_veg': [59.0105, 67.9152, 58.5394, 55.1236]}\n",
      "[109612067;uavgaplength(__init__:345)->uavhelpers.rotate_by_heading]: INFO - horizontal row alignment counter-clockwise rotation=269.180; geom=359.180, meta=359.741, using geometry_override \n",
      "[109612067;uavgaplength] {'row_gapdst': [6.97, 8.66, 8.33, 10.41], 'row_max_gap': [0.42, 1.0, 0.64, 0.53], 'row_gap_cnt': [58, 58, 64, 104], 'row_gap_thresh_cnt': [58, 58, 64, 104], 'row_gap_percent_veg': [76.7728, 71.1426, 72.2498, 65.3004]}\n",
      "[109612059;uavgaplength(__init__:345)->uavhelpers.rotate_by_heading]: INFO - horizontal row alignment counter-clockwise rotation=269.177; geom=359.177, meta=359.177, using meta \n",
      "[109612059;uavgaplength] {'row_gapdst': [19.02, 17.25, 21.22, 20.09], 'row_max_gap': [5.54, 6.73, 7.5, 3.28], 'row_gap_cnt': [44, 39, 36, 42], 'row_gap_thresh_cnt': [44, 39, 36, 42], 'row_gap_percent_veg': [36.6077, 42.5207, 29.258, 33.0271]}\n"
     ]
    },
    {
     "ename": "KeyboardInterrupt",
     "evalue": "",
     "output_type": "error",
     "traceback": [
      "\u001b[0;31m---------------------------------------------------------------------------\u001b[0m",
      "\u001b[0;31mKeyboardInterrupt\u001b[0m                         Traceback (most recent call last)",
      "\u001b[0;32m<ipython-input-91-449e3d24ceec>\u001b[0m in \u001b[0;36m<module>\u001b[0;34m\u001b[0m\n\u001b[1;32m      2\u001b[0m \u001b[0mresult_list\u001b[0m \u001b[0;34m=\u001b[0m \u001b[0;34m[\u001b[0m\u001b[0;34m]\u001b[0m\u001b[0;34m\u001b[0m\u001b[0;34m\u001b[0m\u001b[0m\n\u001b[1;32m      3\u001b[0m \u001b[0;32mfor\u001b[0m \u001b[0mi\u001b[0m \u001b[0;32min\u001b[0m \u001b[0mrange\u001b[0m\u001b[0;34m(\u001b[0m\u001b[0;36m0\u001b[0m\u001b[0;34m,\u001b[0m \u001b[0mlen\u001b[0m\u001b[0;34m(\u001b[0m\u001b[0mdata_paths\u001b[0m\u001b[0;34m)\u001b[0m\u001b[0;34m)\u001b[0m\u001b[0;34m:\u001b[0m\u001b[0;34m\u001b[0m\u001b[0;34m\u001b[0m\u001b[0m\n\u001b[0;32m----> 4\u001b[0;31m     \u001b[0mcur_dict\u001b[0m \u001b[0;34m=\u001b[0m \u001b[0mgap\u001b[0m\u001b[0;34m.\u001b[0m\u001b[0mprocess\u001b[0m\u001b[0;34m(\u001b[0m\u001b[0mdata_paths\u001b[0m\u001b[0;34m[\u001b[0m\u001b[0mi\u001b[0m\u001b[0;34m]\u001b[0m\u001b[0;34m,\u001b[0m \u001b[0mmeta_list\u001b[0m\u001b[0;34m[\u001b[0m\u001b[0mi\u001b[0m\u001b[0;34m]\u001b[0m\u001b[0;34m,\u001b[0m\u001b[0;34m\"./results\"\u001b[0m\u001b[0;34m)\u001b[0m\u001b[0;34m\u001b[0m\u001b[0;34m\u001b[0m\u001b[0m\n\u001b[0m\u001b[1;32m      5\u001b[0m     \u001b[0mcur_gap\u001b[0m \u001b[0;34m=\u001b[0m \u001b[0mcur_dict\u001b[0m\u001b[0;34m.\u001b[0m\u001b[0mget\u001b[0m\u001b[0;34m(\u001b[0m\u001b[0;34m\"gapdst\"\u001b[0m\u001b[0;34m)\u001b[0m\u001b[0;34m\u001b[0m\u001b[0;34m\u001b[0m\u001b[0m\n\u001b[1;32m      6\u001b[0m     \u001b[0mresult_list\u001b[0m\u001b[0;34m.\u001b[0m\u001b[0mappend\u001b[0m\u001b[0;34m(\u001b[0m\u001b[0mcur_gap\u001b[0m\u001b[0;34m)\u001b[0m\u001b[0;34m\u001b[0m\u001b[0;34m\u001b[0m\u001b[0m\n",
      "\u001b[0;32m/opt/conda/lib/python3.8/site-packages/uavgaplength/__init__.py\u001b[0m in \u001b[0;36mprocess\u001b[0;34m(***failed resolving arguments***)\u001b[0m\n\u001b[1;32m    343\u001b[0m \u001b[0;34m\u001b[0m\u001b[0m\n\u001b[1;32m    344\u001b[0m     \u001b[0m_\u001b[0m\u001b[0;34m,\u001b[0m \u001b[0mmask_plot_img\u001b[0m\u001b[0;34m,\u001b[0m \u001b[0malpha\u001b[0m\u001b[0;34m,\u001b[0m \u001b[0mheading\u001b[0m\u001b[0;34m,\u001b[0m \u001b[0mrinfo\u001b[0m\u001b[0;31m \u001b[0m\u001b[0;31m\\\u001b[0m\u001b[0;34m\u001b[0m\u001b[0;34m\u001b[0m\u001b[0m\n\u001b[0;32m--> 345\u001b[0;31m         \u001b[0;34m=\u001b[0m \u001b[0muavhelpers\u001b[0m\u001b[0;34m.\u001b[0m\u001b[0mrotate_by_heading\u001b[0m\u001b[0;34m(\u001b[0m\u001b[0mplot_img_file\u001b[0m\u001b[0;34m,\u001b[0m \u001b[0mplot_meta\u001b[0m\u001b[0;34m,\u001b[0m \u001b[0mmethod\u001b[0m\u001b[0;34m=\u001b[0m\u001b[0mmethod\u001b[0m\u001b[0;34m,\u001b[0m \u001b[0mcaller\u001b[0m\u001b[0;34m=\u001b[0m\u001b[0mpkg_id\u001b[0m\u001b[0;34m)\u001b[0m\u001b[0;34m\u001b[0m\u001b[0;34m\u001b[0m\u001b[0m\n\u001b[0m\u001b[1;32m    346\u001b[0m \u001b[0;34m\u001b[0m\u001b[0m\n\u001b[1;32m    347\u001b[0m     \u001b[0myx_m\u001b[0m \u001b[0;34m=\u001b[0m \u001b[0mrinfo\u001b[0m\u001b[0;34m[\u001b[0m\u001b[0;34m'yx_m'\u001b[0m\u001b[0;34m]\u001b[0m\u001b[0;34m\u001b[0m\u001b[0;34m\u001b[0m\u001b[0m\n",
      "\u001b[0;32m/opt/conda/lib/python3.8/site-packages/uavhelpers/__init__.py\u001b[0m in \u001b[0;36mrotate_by_heading\u001b[0;34m(plot_img_file, plot_meta, method, calibrate, write_mask_path, rgb_interp, caller, vertical, all_alpha)\u001b[0m\n\u001b[1;32m   1540\u001b[0m             \u001b[0;32mfor\u001b[0m \u001b[0mcall_i\u001b[0m \u001b[0;32min\u001b[0m \u001b[0mrange\u001b[0m\u001b[0;34m(\u001b[0m\u001b[0mcall_count\u001b[0m\u001b[0;34m)\u001b[0m\u001b[0;34m:\u001b[0m\u001b[0;34m\u001b[0m\u001b[0;34m\u001b[0m\u001b[0m\n\u001b[1;32m   1541\u001b[0m                 \u001b[0mresize_data_array\u001b[0m \u001b[0;34m=\u001b[0m\u001b[0;31m \u001b[0m\u001b[0;31m\\\u001b[0m\u001b[0;34m\u001b[0m\u001b[0;34m\u001b[0m\u001b[0m\n\u001b[0;32m-> 1542\u001b[0;31m                     cv2.resize(plot_img[..., call_i * 512:(call_i + 1) * 512],\n\u001b[0m\u001b[1;32m   1543\u001b[0m                                \u001b[0;34m(\u001b[0m\u001b[0miso_img_dim_xy\u001b[0m\u001b[0;34m[\u001b[0m\u001b[0;36m0\u001b[0m\u001b[0;34m]\u001b[0m\u001b[0;34m,\u001b[0m \u001b[0miso_img_dim_xy\u001b[0m\u001b[0;34m[\u001b[0m\u001b[0;36m1\u001b[0m\u001b[0;34m]\u001b[0m\u001b[0;34m)\u001b[0m\u001b[0;34m,\u001b[0m\u001b[0;34m\u001b[0m\u001b[0;34m\u001b[0m\u001b[0m\n\u001b[1;32m   1544\u001b[0m                                interpolation=cv2.INTER_NEAREST)\n",
      "\u001b[0;31mKeyboardInterrupt\u001b[0m: "
     ]
    }
   ],
   "source": [
    "#import the uav metric, if it gives an error about gdal, open the metric python file, add \"from osgeo import gdal\"\n",
    "result_list = []\n",
    "for i in range(0, len(data_paths)):\n",
    "    cur_dict = gap.process(data_paths[i], meta_list[i],\"./results\")\n",
    "    cur_gap = cur_dict.get(\"gapdst\")\n",
    "    result_list.append(cur_gap)"
   ]
  },
  {
   "cell_type": "code",
   "execution_count": 92,
   "id": "6b2d717e-2991-47f5-a317-01642f37ab15",
   "metadata": {},
   "outputs": [
    {
     "name": "stdout",
     "output_type": "stream",
     "text": [
      "[15.22, 22.88, 24.89, 20.39, 15.33, 22.66, 23.65, 27.34, 25.74, 21.98, 22.72, 28.04, 15.63, 12.59, 17.27, 14.41, 20.57, 25.76, 16.23, 15.53, 25.24, 20.84, 26.35, 26.9, 25.92, 16.86, 23.97, 15.61, 19.75, 14.66, 13.5, 6.26, 9.38, 9.69, 11.7, 10.02, 7.22, 8.45, 13.77, 11.1, 5.33, 4.86, 6.51, 9.05, 11.18, 8.74, 5.66, 3.09, 11.5, 8.67, 13.35, 11.18, 10.32, 10.69, 9.5, 4.89, 11.6, None, None, None, None, None, None, None, None, None, None, None, None, None, None, None, None, None, None, None, None, None, None, None, None, None, None, None, None, None, None, None, None, None, None, None, None, None, None, None, None, None, None, None, None, None, None, None, None, None, None, None, None, None, None, None, None, 38.4, 36.91, 45.01, 47.83, 34.36, 77.58]\n"
     ]
    }
   ],
   "source": [
    "print(result_list)"
   ]
  },
  {
   "cell_type": "code",
   "execution_count": 12,
   "id": "36743b1f-1dac-437a-a71b-0055053ff540",
   "metadata": {},
   "outputs": [
    {
     "name": "stdout",
     "output_type": "stream",
     "text": [
      "[107906154;uavstandcount(__init__:208)->uavhelpers.rotate_by_heading]: INFO - horizontal row alignment counter-clockwise rotation=-88.863; geom=1.174, meta=1.137, using meta \n",
      "[107906154;uavstandcount(__init__:280)->uavhelpers.crop_rows]: INFO - inset=25.0%; growth stage 'V3' [default] \n",
      "[107906154;uavstandcount] WARNING - Unexpected target altitude=20m\n",
      "[107906154;uavstandcount] INFO - IPS=300.000\"; PPI=11.791px; min_peak_interval=1769px; population=697/acre\n",
      "[107906154;uavstandcount] INFO - Peak stand win_length=3539px; 300.155\"\n",
      "[107906154;uavstandcount] row_stand: [2, 2, 2, 2]; harvest_row_stand: [2 2]\n",
      "[107906154;uavstandcount] ERROR - authorization_header not found; deep stand processing bypassed.\n"
     ]
    },
    {
     "data": {
      "text/plain": [
       "({'stand': 4,\n",
       "  'observed_rows': 4,\n",
       "  'counted_rows': 2,\n",
       "  'stand_reason': '',\n",
       "  'row_stand': [2, 2, 2, 2],\n",
       "  'heading_applied': 1.136596382780394,\n",
       "  'deepstand': None,\n",
       "  'deepstand_counted_rows': None,\n",
       "  'deepstand_reason': 'ERROR - authorization_header not found; deep stand processing bypassed.',\n",
       "  'row_deepstand': [None, None, None, None]},\n",
       " ['algorithm,plot_id,ccw_rot,x_cm,row_id,is_harvest_row,LocX,LocY,algorithm_data',\n",
       "  'peak-stand,107906154,-88.8634036172196,0.215426,1,False,1237,246',\n",
       "  'peak-stand,107906154,-88.8634036172196,0.215426,1,False,4014,246',\n",
       "  'peak-stand,107906154,-88.8634036172196,0.215426,2,True,1421,600',\n",
       "  'peak-stand,107906154,-88.8634036172196,0.215426,2,True,3229,600',\n",
       "  'peak-stand,107906154,-88.8634036172196,0.215426,3,True,1364,953',\n",
       "  'peak-stand,107906154,-88.8634036172196,0.215426,3,True,4436,953',\n",
       "  'peak-stand,107906154,-88.8634036172196,0.215426,4,False,1596,1307',\n",
       "  'peak-stand,107906154,-88.8634036172196,0.215426,4,False,4153,1307'],\n",
       " array([[0, 0, 0, ..., 0, 0, 0],\n",
       "        [0, 0, 0, ..., 0, 0, 0],\n",
       "        [0, 0, 0, ..., 0, 0, 0],\n",
       "        ...,\n",
       "        [0, 0, 0, ..., 0, 0, 0],\n",
       "        [0, 0, 0, ..., 0, 0, 0],\n",
       "        [0, 0, 0, ..., 0, 0, 0]], dtype=uint8))"
      ]
     },
     "execution_count": 12,
     "metadata": {},
     "output_type": "execute_result"
    }
   ],
   "source": [
    "import uavstandcount as stand\n",
    "#stand.stand_count()\n",
    "stand.stand_count(data_paths[-1], meta_json)"
   ]
  },
  {
   "cell_type": "code",
   "execution_count": null,
   "id": "88d8b824-5553-4027-adb4-99f644d55a1b",
   "metadata": {},
   "outputs": [],
   "source": []
  }
 ],
 "metadata": {
  "kernelspec": {
   "display_name": "Python 3",
   "language": "python",
   "name": "python3"
  },
  "language_info": {
   "codemirror_mode": {
    "name": "ipython",
    "version": 3
   },
   "file_extension": ".py",
   "mimetype": "text/x-python",
   "name": "python",
   "nbconvert_exporter": "python",
   "pygments_lexer": "ipython3",
   "version": "3.8.8"
  }
 },
 "nbformat": 4,
 "nbformat_minor": 5
}
